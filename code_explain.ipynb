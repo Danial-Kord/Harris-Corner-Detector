{
 "cells": [
  {
   "attachments": {},
   "cell_type": "markdown",
   "metadata": {},
   "source": [
    "You can run the code by the following command\n",
    "\n",
    "`python panorama.py`"
   ]
  },
  {
   "attachments": {},
   "cell_type": "markdown",
   "metadata": {},
   "source": [
    "### Harris Corner Detector"
   ]
  },
  {
   "attachments": {},
   "cell_type": "markdown",
   "metadata": {},
   "source": [
    "Harris is implemented using the following steps\n",
    "1. X and Y derivatives of the image is calculated using sobel in OpenCV (This is done by specifying the windows size which moves on image pixels and calculates derivatives in it)\n",
    "2. Covariance of the Matrix is calculated by defining $I_{x}^{2}$, $I_{y}^{2}$ and $I_{x}I_{y}$\n",
    "3. Now we convolve the structure tensor with a Gaussian filter to smooth the results\n",
    "4. Now we should calculate the following equation which gives us the Harris responce we need: $ Det(H) / Trace(H) = det(A) - kTrace^2(A)$ \n",
    "5. At last we should find the corners in the results above a specific threshold\n",
    "6. As it is noticeable above, there are several hyper parameters that needs to be defined for best results which are k, window size and threshold. To find the best combination of these I wrote an experiment of different variables of each and exported the image of the results with the corresponding values of it. Some of the outputs are visible below:\n",
    "    - For K=0.04, windowSize=3 and threshold=0.99\n",
    "    <br>\n",
    "    <img src=\"./harris_results/harris_k0.04_window3_threshold0.99.jpg\" width=\"400\" height=\"200\">\n",
    "    - For K=0.04, windowSize=3 and threshold=0.99999999\n",
    "    <br>\n",
    "    <img src=\"./harris_results/harris_k0.04_window3_threshold0.99999999.jpg\" width=\"400\" height=\"200\">\n",
    "    <br>\n",
    "By running the code a total of 440 images with different hyper parameters will be generated.\n"
   ]
  },
  {
   "attachments": {},
   "cell_type": "markdown",
   "metadata": {},
   "source": [
    "Bellow is the function used for detecting Harris corners"
   ]
  },
  {
   "cell_type": "code",
   "execution_count": 1,
   "metadata": {},
   "outputs": [],
   "source": [
    "def harris_corner_detector(image, k=0.4, window_size=3, threshold=0.8):\n",
    "    gray = cv2.cvtColor(image, cv2.COLOR_BGR2GRAY)\n",
    "    height, width = gray.shape\n",
    "    dx = cv2.Sobel(gray, cv2.CV_64F, 1, 0, ksize=window_size)\n",
    "    dy = cv2.Sobel(gray, cv2.CV_64F, 0, 1, ksize=window_size)\n",
    "    Ixx = dx**2\n",
    "    Ixy = dy*dx\n",
    "    Iyy = dy**2\n",
    "\n",
    "    # Define the size of the Gaussian filter\n",
    "    ksize = 5\n",
    "\n",
    "    # Define the standard deviation of the Gaussian filter\n",
    "    sigma = 1.5\n",
    "\n",
    "    # Convolve the structure tensor elements with a Gaussian filter\n",
    "    Ixx = cv2.GaussianBlur(Ixx, (ksize, ksize), sigma)\n",
    "    Iyy = cv2.GaussianBlur(Iyy, (ksize, ksize), sigma)\n",
    "    Ixy = cv2.GaussianBlur(Ixy, (ksize, ksize), sigma)\n",
    "\n",
    "    corner_response = np.zeros_like(gray)\n",
    "\n",
    "    for i in range(height):\n",
    "        for j in range(width):\n",
    "            Sxx = np.sum(Ixx[i-window_size//2:i+window_size//2+1, j-window_size//2:j+window_size//2+1])\n",
    "            Syy = np.sum(Iyy[i-window_size//2:i+window_size//2+1, j-window_size//2:j+window_size//2+1])\n",
    "            Sxy = np.sum(Ixy[i-window_size//2:i+window_size//2+1, j-window_size//2:j+window_size//2+1])\n",
    "            det = Sxx * Syy - Sxy**2\n",
    "            trace = Sxx + Syy\n",
    "            corner_response[i, j] = det - k * trace**2\n",
    "    corner_response = np.where(corner_response >= threshold * corner_response.max(), corner_response, 0)\n",
    "    print(threshold * corner_response.max())\n",
    "    for i in range(height):\n",
    "        for j in range(width):\n",
    "            if corner_response[i, j] != 0:\n",
    "                cv2.circle(image, (j, i), 5, (0, 0, 255), -1)\n",
    "    return image"
   ]
  }
 ],
 "metadata": {
  "kernelspec": {
   "display_name": "base",
   "language": "python",
   "name": "python3"
  },
  "language_info": {
   "codemirror_mode": {
    "name": "ipython",
    "version": 3
   },
   "file_extension": ".py",
   "mimetype": "text/x-python",
   "name": "python",
   "nbconvert_exporter": "python",
   "pygments_lexer": "ipython3",
   "version": "3.7.6"
  },
  "orig_nbformat": 4,
  "vscode": {
   "interpreter": {
    "hash": "ad2bdc8ecc057115af97d19610ffacc2b4e99fae6737bb82f5d7fb13d2f2c186"
   }
  }
 },
 "nbformat": 4,
 "nbformat_minor": 2
}
